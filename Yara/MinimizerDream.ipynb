{
 "cells": [
  {
   "cell_type": "code",
   "execution_count": null,
   "metadata": {},
   "outputs": [],
   "source": [
    "import pandas as pd"
   ]
  },
  {
   "cell_type": "code",
   "execution_count": null,
   "metadata": {},
   "outputs": [],
   "source": []
  },
  {
   "cell_type": "code",
   "execution_count": null,
   "metadata": {},
   "outputs": [],
   "source": [
    "row_list = []\n",
    "for size in [6, 8, 10, 12, 14, 16]:\n",
    "    for error in [0, 1, 2, 3]:\n",
    "        for penalty in [0, 1, 2, 3]:\n",
    "            filename = '_'.join(map(str, [size, error, penalty])) + \".log\"\n",
    "            with open(filename, \"r\") as file:\n",
    "                row_dict = {}\n",
    "                row_dict[\"Size\"] = size\n",
    "                row_dict[\"Error\"] = error\n",
    "                row_dict[\"Penalty\"] = penalty\n",
    "                for line in file:\n",
    "                    if line.startswith(\"Filter loading time\"):\n",
    "                        row_dict[\"Filter loading time\"] = line.split('\\t')[2].split(' ')[0]\n",
    "                    elif line.startswith(\"Reads filtering time\"):\n",
    "                        row_dict[\"Reads filtering time\"] = line.split('\\t')[2].split(' ')[0]\n",
    "                    elif line.startswith(\"Reads copying time\"):\n",
    "                        row_dict[\"Reads copying time\"] = line.split('\\t')[2].split(' ')[0]\n",
    "                    elif line.startswith(\"Alignments copying time\"):\n",
    "                        row_dict[\"Alignments copying time\"] = line.split('\\t')[1].split(' ')[0]\n",
    "                    elif line.startswith(\"Cigars moving time\"):\n",
    "                        row_dict[\"Cigars moving time\"] = line.split('\\t')[2].split(' ')[0]\n",
    "                    elif line.startswith(\"Total time\"):\n",
    "                        row_dict[\"Total time\"] = line.split('\\t')[3].split(' ')[0]\n",
    "                    elif line.startswith(\"Genome loading time\"):\n",
    "                        row_dict[\"Genome loading time\"] = line.split('\\t')[2].split(' ')[0]\n",
    "                    elif line.startswith(\"Reads loading time\"):\n",
    "                        row_dict[\"Reads loading time\"] = line.split('\\t')[2].split(' ')[0]\n",
    "                    elif line.startswith(\"Seeding time\"):\n",
    "                        row_dict[\"Seeding time\"] = line.split('\\t')[3].split(' ')[0]\n",
    "                    elif line.startswith(\"Filtering time\"):\n",
    "                        row_dict[\"Filtering time\"] = line.split('\\t')[3].split(' ')[0]\n",
    "                    elif line.startswith(\"Classification time\"):\n",
    "                        row_dict[\"Classification time\"] = line.split('\\t')[2].split(' ')[0]\n",
    "                    elif line.startswith(\"Ranking time\"):\n",
    "                        row_dict[\"Ranking time\"] = line.split('\\t')[3].split(' ')[0]\n",
    "                    elif line.startswith(\"Extension time\"):\n",
    "                        row_dict[\"Extension time\"] = line.split('\\t')[3].split(' ')[0]\n",
    "                    elif line.startswith(\"Sorting time\"):\n",
    "                        row_dict[\"Sorting time\"] = line.split('\\t')[3].split(' ')[0]\n",
    "                    elif line.startswith(\"Compaction time\"):\n",
    "                        row_dict[\"Compaction time\"] = line.split('\\t')[2].split(' ')[0]\n",
    "                    elif line.startswith(\"Alignment time\"):\n",
    "                        row_dict[\"Alignment time\"] = line.split('\\t')[3].split(' ')[0]\n",
    "                    elif line.startswith(\"Output time\"):\n",
    "                        row_dict[\"Output time\"] = line.split('\\t')[3].split(' ')[0]\n",
    "                    elif line.startswith(\"Total reads\"):\n",
    "                        row_dict[\"Total reads\"] = line.split('\\t')[3].rstrip(\"\\n\")\n",
    "                    elif line.startswith(\"Mapped reads\"):\n",
    "                        row_dict[\"Mapped reads\"] = line.split('\\t')[3]\n",
    "                    elif line.startswith(\"Avg reads per bin\"):\n",
    "                        row_dict[\"Avg reads per bin\"] = line.split('\\t')[2].rstrip(\"\\n\")\n",
    "                    else:\n",
    "                        continue\n",
    "                row_list.append(row_dict)"
   ]
  },
  {
   "cell_type": "code",
   "execution_count": null,
   "metadata": {},
   "outputs": [],
   "source": [
    "filename = \"16_3_100.log\"\n",
    "with open(filename, \"r\") as file:\n",
    "    row_dict = {}\n",
    "    row_dict[\"Size\"] = 16\n",
    "    row_dict[\"Error\"] = 3\n",
    "    row_dict[\"Penalty\"] = -1\n",
    "    for line in file:\n",
    "        if line.startswith(\"Filter loading time\"):\n",
    "            row_dict[\"Filter loading time\"] = line.split('\\t')[2].split(' ')[0]\n",
    "        elif line.startswith(\"Reads filtering time\"):\n",
    "            row_dict[\"Reads filtering time\"] = line.split('\\t')[2].split(' ')[0]\n",
    "        elif line.startswith(\"Reads copying time\"):\n",
    "            row_dict[\"Reads copying time\"] = line.split('\\t')[2].split(' ')[0]\n",
    "        elif line.startswith(\"Alignments copying time\"):\n",
    "            row_dict[\"Alignments copying time\"] = line.split('\\t')[1].split(' ')[0]\n",
    "        elif line.startswith(\"Cigars moving time\"):\n",
    "            row_dict[\"Cigars moving time\"] = line.split('\\t')[2].split(' ')[0]\n",
    "        elif line.startswith(\"Total time\"):\n",
    "            row_dict[\"Total time\"] = line.split('\\t')[3].split(' ')[0]\n",
    "        elif line.startswith(\"Genome loading time\"):\n",
    "            row_dict[\"Genome loading time\"] = line.split('\\t')[2].split(' ')[0]\n",
    "        elif line.startswith(\"Reads loading time\"):\n",
    "            row_dict[\"Reads loading time\"] = line.split('\\t')[2].split(' ')[0]\n",
    "        elif line.startswith(\"Seeding time\"):\n",
    "            row_dict[\"Seeding time\"] = line.split('\\t')[3].split(' ')[0]\n",
    "        elif line.startswith(\"Filtering time\"):\n",
    "            row_dict[\"Filtering time\"] = line.split('\\t')[3].split(' ')[0]\n",
    "        elif line.startswith(\"Classification time\"):\n",
    "            row_dict[\"Classification time\"] = line.split('\\t')[2].split(' ')[0]\n",
    "        elif line.startswith(\"Ranking time\"):\n",
    "            row_dict[\"Ranking time\"] = line.split('\\t')[3].split(' ')[0]\n",
    "        elif line.startswith(\"Extension time\"):\n",
    "            row_dict[\"Extension time\"] = line.split('\\t')[3].split(' ')[0]\n",
    "        elif line.startswith(\"Sorting time\"):\n",
    "            row_dict[\"Sorting time\"] = line.split('\\t')[3].split(' ')[0]\n",
    "        elif line.startswith(\"Compaction time\"):\n",
    "            row_dict[\"Compaction time\"] = line.split('\\t')[2].split(' ')[0]\n",
    "        elif line.startswith(\"Alignment time\"):\n",
    "            row_dict[\"Alignment time\"] = line.split('\\t')[3].split(' ')[0]\n",
    "        elif line.startswith(\"Output time\"):\n",
    "            row_dict[\"Output time\"] = line.split('\\t')[3].split(' ')[0]\n",
    "        elif line.startswith(\"Total reads\"):\n",
    "            row_dict[\"Total reads\"] = line.split('\\t')[3].rstrip(\"\\n\")\n",
    "        elif line.startswith(\"Mapped reads\"):\n",
    "            row_dict[\"Mapped reads\"] = line.split('\\t')[3]\n",
    "        elif line.startswith(\"Avg reads per bin\"):\n",
    "            row_dict[\"Avg reads per bin\"] = line.split('\\t')[2].rstrip(\"\\n\")\n",
    "        else:\n",
    "            continue\n",
    "    row_list.append(row_dict)"
   ]
  },
  {
   "cell_type": "code",
   "execution_count": null,
   "metadata": {},
   "outputs": [],
   "source": [
    "df = pd.DataFrame(row_list)"
   ]
  },
  {
   "cell_type": "code",
   "execution_count": null,
   "metadata": {},
   "outputs": [],
   "source": [
    "df = df[[\"Size\", \"Error\", \"Penalty\", \"Filter loading time\", \n",
    "                           \"Reads filtering time\", \"Reads copying time\", \"Alignments copying time\",\n",
    "                           \"Cigars moving time\", \"Total time\", \"Genome loading time\", \"Reads loading time\",\n",
    "                           \"Seeding time\", \"Filtering time\", \"Classification time\", \"Ranking time\",\n",
    "                           \"Extension time\", \"Sorting time\", \"Compaction time\", \"Alignment time\",\n",
    "                           \"Output time\", \"Total reads\", \"Mapped reads\", \"Avg reads per bin\"]]"
   ]
  },
  {
   "cell_type": "code",
   "execution_count": null,
   "metadata": {},
   "outputs": [],
   "source": [
    "df.to_csv(\"results.tsv\", sep='\\t', index=False)"
   ]
  },
  {
   "cell_type": "code",
   "execution_count": null,
   "metadata": {},
   "outputs": [],
   "source": []
  }
 ],
 "metadata": {
  "kernelspec": {
   "display_name": "Python 3",
   "language": "python",
   "name": "python3"
  },
  "language_info": {
   "codemirror_mode": {
    "name": "ipython",
    "version": 3
   },
   "file_extension": ".py",
   "mimetype": "text/x-python",
   "name": "python",
   "nbconvert_exporter": "python",
   "pygments_lexer": "ipython3",
   "version": "3.7.0"
  }
 },
 "nbformat": 4,
 "nbformat_minor": 2
}
