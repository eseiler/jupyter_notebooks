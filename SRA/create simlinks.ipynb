{
 "cells": [
  {
   "cell_type": "code",
   "execution_count": null,
   "metadata": {},
   "outputs": [],
   "source": [
    "from collections import defaultdict\n",
    "import os\n",
    "import re\n",
    "\n",
    "path = os.path.abspath(\"/group/ag_abi/seiler/caroline_SRA/fasta/\")"
   ]
  },
  {
   "cell_type": "code",
   "execution_count": null,
   "metadata": {},
   "outputs": [],
   "source": [
    "binnings = [f for f in os.listdir(path) \n",
    "            if os.path.isfile(os.path.join(path, f)) \n",
    "            and re.match(r\"\\d+\\.fasta\\.\\d+\\.fasta\", f)]\n",
    "\n",
    "mapping = defaultdict(list)\n",
    "commands = []\n",
    "bin2orig = defaultdict(list)\n",
    "\n",
    "for f in binnings:\n",
    "    [original, split] = re.findall('\\d+', f)\n",
    "    mapping[int(original)].append(int(split))\n",
    "\n",
    "for m in mapping:\n",
    "    mapping[m] = max(mapping[m])\n",
    "\n",
    "counter = 0\n",
    "for (original, split) in sorted(mapping.items()):\n",
    "    for s in range(int(split)+1):\n",
    "        target = os.path.join(path, \"{}.fasta.{}.fasta\".format(original, s))\n",
    "        link = os.path.join(path, \"rename\", \"{}.fasta\".format(counter))\n",
    "        command = \"ln -s {} {}\".format(target, link)\n",
    "        commands.append(command)\n",
    "        bin2orig[counter].append([original, list])\n",
    "        counter += 1"
   ]
  },
  {
   "cell_type": "code",
   "execution_count": null,
   "metadata": {},
   "outputs": [],
   "source": [
    "x = \"\"\n",
    "for [b, c] in sorted(mapping.items()):\n",
    "    counter = 0\n",
    "    while (counter <= c):\n",
    "        x = x + str(b) + \",\"\n",
    "        counter = counter + 1\n",
    "    x = x + \"\\n\"\n",
    "print(x)"
   ]
  },
  {
   "cell_type": "code",
   "execution_count": null,
   "metadata": {},
   "outputs": [],
   "source": [
    "with open(os.path.join(path, \"rename.sh\"), \"w\") as f:\n",
    "    f.write(\"#!/bin/bash\")\n",
    "    for c in commands:\n",
    "        f.write(\"\\n\")\n",
    "        f.write(c)"
   ]
  },
  {
   "cell_type": "code",
   "execution_count": null,
   "metadata": {},
   "outputs": [],
   "source": []
  }
 ],
 "metadata": {
  "kernelspec": {
   "display_name": "Python 3",
   "language": "python",
   "name": "python3"
  },
  "language_info": {
   "codemirror_mode": {
    "name": "ipython",
    "version": 3
   },
   "file_extension": ".py",
   "mimetype": "text/x-python",
   "name": "python",
   "nbconvert_exporter": "python",
   "pygments_lexer": "ipython3",
   "version": "3.7.0"
  }
 },
 "nbformat": 4,
 "nbformat_minor": 2
}
