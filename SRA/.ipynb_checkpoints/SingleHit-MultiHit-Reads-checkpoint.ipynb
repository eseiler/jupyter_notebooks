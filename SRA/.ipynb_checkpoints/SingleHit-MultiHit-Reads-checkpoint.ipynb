{
 "cells": [
  {
   "cell_type": "code",
   "execution_count": 1,
   "metadata": {},
   "outputs": [],
   "source": [
    "import os"
   ]
  },
  {
   "cell_type": "code",
   "execution_count": 2,
   "metadata": {},
   "outputs": [],
   "source": [
    "path = os.path.abspath(\"/group/ag_abi/seiler/caroline_SRA/\")"
   ]
  },
  {
   "cell_type": "code",
   "execution_count": 3,
   "metadata": {},
   "outputs": [],
   "source": [
    "file_0 = os.path.join(path, \"SRA_Search\", \"build\", \"parallel_k19_w24_bs60G_e0.txt\")\n",
    "# file_1 = os.path.join(path, \"parallel_k19_w24_bs60G_e1.txt\")"
   ]
  },
  {
   "cell_type": "code",
   "execution_count": 4,
   "metadata": {},
   "outputs": [],
   "source": [
    "dict_0 = {}\n",
    "no_hit = 0\n",
    "with open(file_0, 'r') as f:\n",
    "    while True:\n",
    "        read = f.readline().strip()\n",
    "        bins = f.readline().strip()\n",
    "        if not bins:\n",
    "            break\n",
    "        if bins != \"NA\":\n",
    "            dict_0[read] = bins.split(',')\n",
    "        else:\n",
    "            no_hit += 1"
   ]
  },
  {
   "cell_type": "code",
   "execution_count": 5,
   "metadata": {},
   "outputs": [],
   "source": [
    "dict_sh = {}\n",
    "dict_mh = {}\n",
    "for (read, bins) in dict_0.items():\n",
    "    if len(bins) == 1:\n",
    "        dict_sh[read] = bins\n",
    "    else:\n",
    "        dict_mh[read] = bins"
   ]
  },
  {
   "cell_type": "code",
   "execution_count": 10,
   "metadata": {},
   "outputs": [],
   "source": [
    "reads_sh = os.path.join(path, \"stellar_verification\", \"single_hits.id\")\n",
    "reads_mh = os.path.join(path, \"stellar_verification\", \"multi_hits.id\")"
   ]
  },
  {
   "cell_type": "code",
   "execution_count": 11,
   "metadata": {},
   "outputs": [],
   "source": [
    "with open(reads_sh, 'w') as f:\n",
    "    c = 0\n",
    "    for (read, bins) in dict_sh.items():\n",
    "        f.write(\">{}\\n\".format(read))\n",
    "        if c==9:\n",
    "            break\n",
    "        c+=1"
   ]
  },
  {
   "cell_type": "code",
   "execution_count": 12,
   "metadata": {},
   "outputs": [],
   "source": [
    "with open(reads_mh, 'w') as f:\n",
    "    c = 0\n",
    "    for (read, bins) in sorted(dict_mh.items(), key=lambda x: len(x[1]), reverse=True):\n",
    "        if len(bins) > 34 and len(bins) < 41:\n",
    "            f.write(\">{}\\n\".format(read))\n",
    "            if c==9:\n",
    "                break\n",
    "            c+=1"
   ]
  },
  {
   "cell_type": "code",
   "execution_count": 9,
   "metadata": {},
   "outputs": [
    {
     "name": "stdout",
     "output_type": "stream",
     "text": [
      "948324\n",
      "1534305\n",
      "10701837\n"
     ]
    }
   ],
   "source": [
    "print(len(dict_sh.keys()))\n",
    "print(len(dict_mh.keys()))\n",
    "print(10701837)"
   ]
  },
  {
   "cell_type": "code",
   "execution_count": 5,
   "metadata": {},
   "outputs": [
    {
     "name": "stdout",
     "output_type": "stream",
     "text": [
      "8219208\n"
     ]
    }
   ],
   "source": [
    "print(no_hit)"
   ]
  },
  {
   "cell_type": "code",
   "execution_count": null,
   "metadata": {},
   "outputs": [],
   "source": []
  }
 ],
 "metadata": {
  "kernelspec": {
   "display_name": "Python 3",
   "language": "python",
   "name": "python3"
  },
  "language_info": {
   "codemirror_mode": {
    "name": "ipython",
    "version": 3
   },
   "file_extension": ".py",
   "mimetype": "text/x-python",
   "name": "python",
   "nbconvert_exporter": "python",
   "pygments_lexer": "ipython3",
   "version": "3.7.0"
  }
 },
 "nbformat": 4,
 "nbformat_minor": 2
}
