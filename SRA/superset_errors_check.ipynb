{
 "cells": [
  {
   "cell_type": "code",
   "execution_count": 1,
   "metadata": {},
   "outputs": [],
   "source": [
    "import os"
   ]
  },
  {
   "cell_type": "code",
   "execution_count": 2,
   "metadata": {},
   "outputs": [],
   "source": [
    "path = os.path.abspath(\"/group/ag_abi/seiler/caroline_SRA/SRA_Search/build\")"
   ]
  },
  {
   "cell_type": "code",
   "execution_count": 3,
   "metadata": {},
   "outputs": [],
   "source": [
    "file_0 = os.path.join(path, \"parallel_k19_w24_bs60G_e0.txt\")\n",
    "file_1 = os.path.join(path, \"parallel_k19_w24_bs60G_e1.txt\")"
   ]
  },
  {
   "cell_type": "code",
   "execution_count": 13,
   "metadata": {},
   "outputs": [],
   "source": [
    "dict_0 = {}\n",
    "with open(file_0, 'r') as f:\n",
    "    while True:\n",
    "        read = f.readline().strip()\n",
    "        bins = f.readline().strip()\n",
    "        if not bins:\n",
    "            break\n",
    "        dict_0[read] = bins.split(',')"
   ]
  },
  {
   "cell_type": "code",
   "execution_count": 14,
   "metadata": {},
   "outputs": [],
   "source": [
    "dict_1 = {}\n",
    "with open(file_1, 'r') as f:\n",
    "    while True:\n",
    "        read = f.readline().strip()\n",
    "        bins = f.readline().strip()\n",
    "        if not bins:\n",
    "            break\n",
    "        dict_1[read] = bins.split(',')"
   ]
  },
  {
   "cell_type": "code",
   "execution_count": 27,
   "metadata": {},
   "outputs": [],
   "source": [
    "for (read, bins) in dict_0.items():\n",
    "    if bins != ['NA']:\n",
    "        for b in bins:\n",
    "            if b not in dict_1[read]:\n",
    "                print(\"Missing bin {} in read {}\".format(b, read))"
   ]
  }
 ],
 "metadata": {
  "kernelspec": {
   "display_name": "Python 3",
   "language": "python",
   "name": "python3"
  },
  "language_info": {
   "codemirror_mode": {
    "name": "ipython",
    "version": 3
   },
   "file_extension": ".py",
   "mimetype": "text/x-python",
   "name": "python",
   "nbconvert_exporter": "python",
   "pygments_lexer": "ipython3",
   "version": "3.7.0"
  }
 },
 "nbformat": 4,
 "nbformat_minor": 2
}
