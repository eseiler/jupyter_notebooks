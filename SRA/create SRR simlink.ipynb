{
 "cells": [
  {
   "cell_type": "code",
   "execution_count": 2,
   "metadata": {},
   "outputs": [],
   "source": [
    "from collections import defaultdict\n",
    "import os\n",
    "import re\n",
    "\n",
    "path = os.path.abspath(\"/group/ag_abi/seiler/caroline_SRA/fasta/\")"
   ]
  },
  {
   "cell_type": "code",
   "execution_count": 19,
   "metadata": {},
   "outputs": [],
   "source": [
    "srr = []\n",
    "\n",
    "with open(os.path.join(path, \"SRR.list\"), 'r') as f:\n",
    "    for line in f:\n",
    "        srr.append(line.strip())"
   ]
  },
  {
   "cell_type": "code",
   "execution_count": 21,
   "metadata": {},
   "outputs": [],
   "source": [
    "binnings = [f for f in os.listdir(path) \n",
    "            if os.path.isfile(os.path.join(path, f)) \n",
    "            and re.match(r\"^\\d+\\.fasta$\", os.path.basename(f))]\n",
    "\n",
    "commands = []\n",
    "\n",
    "for b in binnings:\n",
    "    n = int(re.findall('\\d+', b)[0])\n",
    "    target = os.path.join(path, \"{}.fasta\".format(n))\n",
    "    link = os.path.join(path, \"SRR\", \"{}.fasta\".format(srr[n]))\n",
    "    command = \"ln -s {} {}\".format(target, link)\n",
    "    commands.append(command)"
   ]
  },
  {
   "cell_type": "code",
   "execution_count": 22,
   "metadata": {},
   "outputs": [],
   "source": [
    "with open(os.path.join(path, \"SRR_rename.sh\"), \"w\") as f:\n",
    "    f.write(\"#!/bin/bash\")\n",
    "    for c in commands:\n",
    "        f.write(\"\\n\")\n",
    "        f.write(c)"
   ]
  },
  {
   "cell_type": "code",
   "execution_count": null,
   "metadata": {},
   "outputs": [],
   "source": []
  }
 ],
 "metadata": {
  "kernelspec": {
   "display_name": "Python 3",
   "language": "python",
   "name": "python3"
  },
  "language_info": {
   "codemirror_mode": {
    "name": "ipython",
    "version": 3
   },
   "file_extension": ".py",
   "mimetype": "text/x-python",
   "name": "python",
   "nbconvert_exporter": "python",
   "pygments_lexer": "ipython3",
   "version": "3.7.0"
  }
 },
 "nbformat": 4,
 "nbformat_minor": 2
}
